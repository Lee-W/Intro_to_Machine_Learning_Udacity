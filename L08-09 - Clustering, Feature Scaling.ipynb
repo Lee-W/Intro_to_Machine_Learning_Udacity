{
 "cells": [
  {
   "cell_type": "code",
   "execution_count": 1,
   "metadata": {
    "collapsed": false
   },
   "outputs": [],
   "source": [
    "%matplotlib inline\n",
    "\n",
    "import pickle\n",
    "import math\n",
    "\n",
    "import numpy as np\n",
    "import matplotlib.pyplot as plt\n",
    "from sklearn.cluster import KMeans\n",
    "\n",
    "from tools.feature_format import featureFormat, targetFeatureSplit"
   ]
  },
  {
   "cell_type": "code",
   "execution_count": 2,
   "metadata": {
    "collapsed": true
   },
   "outputs": [],
   "source": [
    "def Draw(pred, features, poi, mark_poi=False, name=\"image.png\",\n",
    "         f1_name=\"feature 1\", f2_name=\"feature 2\"):\n",
    "    \"\"\" some plotting code designed to help you visualize your clusters \"\"\"\n",
    "\n",
    "    ### plot each cluster with a different color--add more colors for\n",
    "    ### drawing more than five clusters\n",
    "    colors = [\"b\", \"c\", \"k\", \"m\", \"g\"]\n",
    "    for i, _ in enumerate(pred):\n",
    "        plt.scatter(features[i][0], features[i][1], color=colors[pred[i]])\n",
    "\n",
    "    ### if you like, place red stars over points that are POIs (just for funsies)\n",
    "    if mark_poi:\n",
    "        for i, _ in enumerate(pred):\n",
    "            if poi[i]:\n",
    "                plt.scatter(features[i][0], features[i][1], color=\"r\", marker=\"*\")\n",
    "    plt.xlabel(f1_name)\n",
    "    plt.ylabel(f2_name)\n",
    "    plt.savefig(name)\n",
    "    plt.show()"
   ]
  },
  {
   "cell_type": "code",
   "execution_count": 3,
   "metadata": {
    "collapsed": false
   },
   "outputs": [
    {
     "data": {
      "text/plain": [
       "{'bonus': 97343619,\n",
       " 'deferral_payments': 32083396,\n",
       " 'deferred_income': -27992891,\n",
       " 'director_fees': 1398517,\n",
       " 'email_address': 'NaN',\n",
       " 'exercised_stock_options': 311764000,\n",
       " 'expenses': 5235198,\n",
       " 'from_messages': 'NaN',\n",
       " 'from_poi_to_this_person': 'NaN',\n",
       " 'from_this_person_to_poi': 'NaN',\n",
       " 'loan_advances': 83925000,\n",
       " 'long_term_incentive': 48521928,\n",
       " 'other': 42667589,\n",
       " 'poi': False,\n",
       " 'restricted_stock': 130322299,\n",
       " 'restricted_stock_deferred': -7576788,\n",
       " 'salary': 26704229,\n",
       " 'shared_receipt_with_poi': 'NaN',\n",
       " 'to_messages': 'NaN',\n",
       " 'total_payments': 309886585,\n",
       " 'total_stock_value': 434509511}"
      ]
     },
     "execution_count": 3,
     "metadata": {},
     "output_type": "execute_result"
    }
   ],
   "source": [
    "### load in the dict of dicts containing all the data on each person in the dataset\n",
    "data_dict = pickle.load(open(\"tools/final_project_dataset.pkl\", \"rb\"))\n",
    "\n",
    "### there's an outlier--remove it! \n",
    "data_dict.pop(\"TOTAL\", 0)"
   ]
  },
  {
   "cell_type": "markdown",
   "metadata": {},
   "source": [
    "## 2 Features"
   ]
  },
  {
   "cell_type": "code",
   "execution_count": 4,
   "metadata": {
    "collapsed": true
   },
   "outputs": [],
   "source": [
    "### the input features we want to use \n",
    "### can be any key in the person-level dictionary (salary, director_fees, etc.)\n",
    "\n",
    "feature_1 = \"salary\"\n",
    "feature_2 = \"exercised_stock_options\"\n",
    "poi  = \"poi\"\n",
    "features_list = [poi, feature_1, feature_2]\n",
    "\n",
    "data = featureFormat(data_dict, features_list)\n",
    "poi, finance_features = targetFeatureSplit(data)"
   ]
  },
  {
   "cell_type": "code",
   "execution_count": 5,
   "metadata": {
    "collapsed": false
   },
   "outputs": [
    {
     "data": {
      "image/png": "[encoded data removed]",
      "text/plain": [
       "<matplotlib.figure.Figure at 0x10781ab38>"
      ]
     },
     "metadata": {},
     "output_type": "display_data"
    }
   ],
   "source": [
    "### in the \"clustering with 3 features\" part of the mini-project,\n",
    "### you'll want to change this line to \n",
    "### for f1, f2, _ in finance_features:\n",
    "### (as it's currently written, the line below assumes 2 features)\n",
    "\n",
    "for f1, f2 in finance_features:\n",
    "    plt.scatter(f1, f2)\n",
    "plt.show()"
   ]
  },
  {
   "cell_type": "code",
   "execution_count": 6,
   "metadata": {
    "collapsed": false
   },
   "outputs": [],
   "source": [
    "### cluster here; create predictions of the cluster labels\n",
    "### for the data and store them to a list called pred\n",
    "\n",
    "clf = KMeans(n_clusters=2)\n",
    "clf.fit(finance_features)\n",
    "pred = clf.predict(finance_features)"
   ]
  },
  {
   "cell_type": "code",
   "execution_count": 7,
   "metadata": {
    "collapsed": false
   },
   "outputs": [
    {
     "data": {
      "image/png": "[encoded data removed]",
      "text/plain": [
       "<matplotlib.figure.Figure at 0x107b89f98>"
      ]
     },
     "metadata": {},
     "output_type": "display_data"
    }
   ],
   "source": [
    "### rename the \"name\" parameter when you change the number of features\n",
    "### so that the figure gets saved to a different file\n",
    "try:\n",
    "    Draw(pred, finance_features, poi, mark_poi=False, name=\"clusters.pdf\", f1_name=feature_1, f2_name=feature_2)\n",
    "except NameError:\n",
    "    print(\"no predictions object named pred found, no clusters to plot\")"
   ]
  },
  {
   "cell_type": "markdown",
   "metadata": {},
   "source": [
    "## 3 Features"
   ]
  },
  {
   "cell_type": "code",
   "execution_count": 8,
   "metadata": {
    "collapsed": false
   },
   "outputs": [],
   "source": [
    "feature_1 = \"salary\"\n",
    "feature_2 = \"exercised_stock_options\"\n",
    "feature_3 = \"total_payments\"\n",
    "poi  = \"poi\"\n",
    "features_list = [poi, feature_1, feature_2, feature_3]\n",
    "\n",
    "data = featureFormat(data_dict, features_list)\n",
    "poi, finance_features = targetFeatureSplit(data)"
   ]
  },
  {
   "cell_type": "code",
   "execution_count": 9,
   "metadata": {
    "collapsed": true
   },
   "outputs": [],
   "source": [
    "clf = KMeans(n_clusters=3)\n",
    "clf.fit(finance_features)\n",
    "pred = clf.predict(finance_features)"
   ]
  },
  {
   "cell_type": "code",
   "execution_count": 10,
   "metadata": {
    "collapsed": false
   },
   "outputs": [
    {
     "data": {
      "image/png": "[encoded data removed]",
      "text/plain": [
       "<matplotlib.figure.Figure at 0x107fefb00>"
      ]
     },
     "metadata": {},
     "output_type": "display_data"
    }
   ],
   "source": [
    "try:\n",
    "    Draw(pred, finance_features, poi, mark_poi=False, name=\"clusters.pdf\", f1_name=feature_1, f2_name=feature_2)\n",
    "except NameError:\n",
    "    print(\"no predictions object named pred found, no clusters to plot\")"
   ]
  },
  {
   "cell_type": "markdown",
   "metadata": {},
   "source": [
    "---"
   ]
  },
  {
   "cell_type": "code",
   "execution_count": 11,
   "metadata": {
    "collapsed": false
   },
   "outputs": [],
   "source": [
    "exercised_stock_options = [float(value['exercised_stock_options']) for key, value in data_dict.items()\n",
    "                              if not math.isnan(float(value['exercised_stock_options']))]"
   ]
  },
  {
   "cell_type": "code",
   "execution_count": 12,
   "metadata": {
    "collapsed": false
   },
   "outputs": [
    {
     "data": {
      "text/plain": [
       "34348384.0"
      ]
     },
     "execution_count": 12,
     "metadata": {},
     "output_type": "execute_result"
    }
   ],
   "source": [
    "max_eso = max(exercised_stock_options)\n",
    "max_eso"
   ]
  },
  {
   "cell_type": "code",
   "execution_count": 13,
   "metadata": {
    "collapsed": false
   },
   "outputs": [
    {
     "data": {
      "text/plain": [
       "3285.0"
      ]
     },
     "execution_count": 13,
     "metadata": {},
     "output_type": "execute_result"
    }
   ],
   "source": [
    "min_eso = min(exercised_stock_options)\n",
    "min_eso"
   ]
  },
  {
   "cell_type": "markdown",
   "metadata": {},
   "source": [
    "---"
   ]
  },
  {
   "cell_type": "code",
   "execution_count": 14,
   "metadata": {
    "collapsed": true
   },
   "outputs": [],
   "source": [
    "salaries = [float(value['salary']) for key, value in data_dict.items()]"
   ]
  },
  {
   "cell_type": "code",
   "execution_count": 15,
   "metadata": {
    "collapsed": false
   },
   "outputs": [
    {
     "data": {
      "text/plain": [
       "nan"
      ]
     },
     "execution_count": 15,
     "metadata": {},
     "output_type": "execute_result"
    }
   ],
   "source": [
    "max_salary = max(salaries)\n",
    "max_salary"
   ]
  },
  {
   "cell_type": "code",
   "execution_count": 16,
   "metadata": {
    "collapsed": false
   },
   "outputs": [
    {
     "data": {
      "text/plain": [
       "nan"
      ]
     },
     "execution_count": 16,
     "metadata": {},
     "output_type": "execute_result"
    }
   ],
   "source": [
    "min_salary = min(salaries)\n",
    "min_salary"
   ]
  },
  {
   "cell_type": "markdown",
   "metadata": {},
   "source": [
    "# Feature Scaling"
   ]
  },
  {
   "cell_type": "code",
   "execution_count": 17,
   "metadata": {
    "collapsed": false
   },
   "outputs": [
    {
     "data": {
      "text/plain": [
       "nan"
      ]
     },
     "execution_count": 17,
     "metadata": {},
     "output_type": "execute_result"
    }
   ],
   "source": [
    "(200000 - min_salary) / (max_salary - min_salary)"
   ]
  },
  {
   "cell_type": "code",
   "execution_count": 18,
   "metadata": {
    "collapsed": false
   },
   "outputs": [
    {
     "data": {
      "text/plain": [
       "0.029020588934683227"
      ]
     },
     "execution_count": 18,
     "metadata": {},
     "output_type": "execute_result"
    }
   ],
   "source": [
    "(1000000 - min_eso) / (max_eso - min_eso)"
   ]
  },
  {
   "cell_type": "code",
   "execution_count": 19,
   "metadata": {
    "collapsed": false
   },
   "outputs": [
    {
     "data": {
      "text/plain": [
       "['NaN',\n",
       " 'NaN',\n",
       " 'NaN',\n",
       " 230,\n",
       " 45,\n",
       " 'NaN',\n",
       " 'NaN',\n",
       " 'NaN',\n",
       " 12,\n",
       " 'NaN',\n",
       " 30,\n",
       " 6759,\n",
       " 19,\n",
       " 556,\n",
       " 'NaN',\n",
       " 'NaN',\n",
       " 13,\n",
       " 'NaN',\n",
       " 13,\n",
       " 34,\n",
       " 3069,\n",
       " 29,\n",
       " 'NaN',\n",
       " 63,\n",
       " 41,\n",
       " 'NaN',\n",
       " 'NaN',\n",
       " 1061,\n",
       " 484,\n",
       " 'NaN',\n",
       " 'NaN',\n",
       " 18,\n",
       " 909,\n",
       " 'NaN',\n",
       " 15,\n",
       " 22,\n",
       " 2195,\n",
       " 146,\n",
       " 82,\n",
       " 26,\n",
       " 92,\n",
       " 14,\n",
       " 'NaN',\n",
       " 1053,\n",
       " 'NaN',\n",
       " 222,\n",
       " 'NaN',\n",
       " 'NaN',\n",
       " 'NaN',\n",
       " 75,\n",
       " 'NaN',\n",
       " 17,\n",
       " 1941,\n",
       " 144,\n",
       " 'NaN',\n",
       " 25,\n",
       " 21,\n",
       " 19,\n",
       " 29,\n",
       " 221,\n",
       " 'NaN',\n",
       " 'NaN',\n",
       " 4343,\n",
       " 36,\n",
       " 'NaN',\n",
       " 2742,\n",
       " 'NaN',\n",
       " 'NaN',\n",
       " 'NaN',\n",
       " 28,\n",
       " 27,\n",
       " 12,\n",
       " 'NaN',\n",
       " 1215,\n",
       " 'NaN',\n",
       " 56,\n",
       " 19,\n",
       " 40,\n",
       " 'NaN',\n",
       " 12,\n",
       " 'NaN',\n",
       " 'NaN',\n",
       " 'NaN',\n",
       " 63,\n",
       " 2585,\n",
       " 'NaN',\n",
       " 14368,\n",
       " 39,\n",
       " 'NaN',\n",
       " 27,\n",
       " 1073,\n",
       " 29,\n",
       " 67,\n",
       " 215,\n",
       " 12,\n",
       " 19,\n",
       " 'NaN',\n",
       " 'NaN',\n",
       " 16,\n",
       " 'NaN',\n",
       " 49,\n",
       " 44,\n",
       " 'NaN',\n",
       " 33,\n",
       " 'NaN',\n",
       " 61,\n",
       " 'NaN',\n",
       " 'NaN',\n",
       " 1728,\n",
       " 'NaN',\n",
       " 'NaN',\n",
       " 29,\n",
       " 'NaN',\n",
       " 'NaN',\n",
       " 'NaN',\n",
       " 2681,\n",
       " 'NaN',\n",
       " 'NaN',\n",
       " 'NaN',\n",
       " 14,\n",
       " 'NaN',\n",
       " 'NaN',\n",
       " 74,\n",
       " 'NaN',\n",
       " 40,\n",
       " 'NaN',\n",
       " 48,\n",
       " 125,\n",
       " 'NaN',\n",
       " 32,\n",
       " 16,\n",
       " 26,\n",
       " 38,\n",
       " 52,\n",
       " 41,\n",
       " 18,\n",
       " 16,\n",
       " 'NaN',\n",
       " 'NaN',\n",
       " 108,\n",
       " 49,\n",
       " 16,\n",
       " 136,\n",
       " 59,\n",
       " 36]"
      ]
     },
     "execution_count": 19,
     "metadata": {},
     "output_type": "execute_result"
    }
   ],
   "source": [
    "[value['from_messages'] for key, value in data_dict.items()]"
   ]
  }
 ],
 "metadata": {
  "kernelspec": {
   "display_name": "Python 3",
   "language": "python",
   "name": "python3"
  },
  "language_info": {
   "codemirror_mode": {
    "name": "ipython",
    "version": 3
   },
   "file_extension": ".py",
   "mimetype": "text/x-python",
   "name": "python",
   "nbconvert_exporter": "python",
   "pygments_lexer": "ipython3",
   "version": "3.5.1"
  }
 },
 "nbformat": 4,
 "nbformat_minor": 0
}
